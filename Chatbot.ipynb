{
  "cells": [
    {
      "cell_type": "code",
      "execution_count": null,
      "metadata": {
        "id": "tTJmSzog3YCY"
      },
      "outputs": [],
      "source": [
        "import random\n",
        "\n",
        "R_EATING = \"I not eating, I am Chatbot!\"\n",
        "R_ADVICE = \"I am not free here to giving advice you, ask google!\"\n",
        "R_MARRIED = \"Yes I am Married With Alexa..!\"\n",
        "R_TRAIN = 'My Favourite train is 22221 Mumbai CSMT - H.Nizamuddin Rajdhani Express'\n",
        "R_ASKING = 'Dhiraj is Nalla Electrician..LOL!'\n",
        "\n",
        "\n",
        "def unknown():\n",
        "    response = [\"Could you please Ask Again? \",\n",
        "                \"...\",\n",
        "                \"Please Speak Again.\",\n",
        "                \"What does that mean?\"][\n",
        "        random.randrange(4)]\n",
        "    return response"
      ]
    },
    {
      "cell_type": "code",
      "execution_count": null,
      "metadata": {
        "colab": {
          "background_save": true,
          "base_uri": "https://localhost:8080/"
        },
        "id": "O6-wDrF43nb7",
        "outputId": "b9e58a9e-4f00-4e00-b4dc-b564a019ae03"
      },
      "outputs": [
        {
          "name": "stdout",
          "output_type": "stream",
          "text": [
            "Looking in indexes: https://pypi.org/simple, https://us-python.pkg.dev/colab-wheels/public/simple/\n",
            "Collecting respo\n",
            "  Downloading respo-1.0.0-py3-none-any.whl (13 kB)\n",
            "Requirement already satisfied: pydantic>=1.7.0 in /usr/local/lib/python3.9/dist-packages (from respo) (1.10.7)\n",
            "Requirement already satisfied: typing-extensions>=4.2.0 in /usr/local/lib/python3.9/dist-packages (from pydantic>=1.7.0->respo) (4.5.0)\n",
            "Installing collected packages: respo\n",
            "Successfully installed respo-1.0.0\n"
          ]
        }
      ],
      "source": [
        "import re\n",
        "!pip install respo\n",
        "import respo as long\n",
        "\n",
        "\n",
        "def message_probability(user_message, recognised_words, single_response=False, required_words=[]):\n",
        "    message_certainty = 0\n",
        "    has_required_words = True\n",
        "\n",
        "    for word in user_message:\n",
        "        if word in recognised_words:\n",
        "            message_certainty += 1\n",
        "\n",
        "    percentage = float(message_certainty) / float(len(recognised_words))\n",
        "\n",
        "    for word in required_words:\n",
        "        if word not in user_message:\n",
        "            has_required_words = False\n",
        "            break\n",
        "\n",
        "    if has_required_words or single_response:\n",
        "        return int(percentage * 100)\n",
        "    else:\n",
        "        return 0\n",
        "\n",
        "\n",
        "def check_all_messages(message):\n",
        "    highest_prob_list = {}\n",
        "\n",
        "    def response(bot_response, list_of_words, single_response=False, required_words=[]):\n",
        "        nonlocal highest_prob_list\n",
        "        highest_prob_list[bot_response] = message_probability(message, list_of_words, single_response, required_words)\n",
        "\n",
        "    response('Hello!', ['hello', 'hi', 'hey', 'hola'], single_response=True)\n",
        "    response('Sayo Nara!', ['bye', 'goodbye'], single_response=True)\n",
        "    response('Jay Shree Ram!', ['jay', 'Shri', 'siya', 'Shree'], single_response=True)\n",
        "    response('Hare Krishna!', ['hare', 'krishna', 'krisna'], single_response=True)\n",
        "    response('Yes..!', ['ferroequinologist', 'railfan', 'you'], required_words=['railfan', 'ferroequinologist'])\n",
        "    response('I\\'m fine, and you?', ['how', 'are', 'you', 'doing'], required_words=['how'])\n",
        "    response('You\\'re welcome!', ['thank', 'thanks'], single_response=True)\n",
        "    response('ok!', ['i', 'love', 'you'], required_words=['love'])\n",
        "    response('No!', ['single', 'you', 'nalla'], required_words=['single'])\n",
        "    response('Talking With You!', ['doing', 'you', 'what'], required_words=['doing'])\n",
        "\n",
        "    response(long.R_ADVICE, ['give', 'advice'], required_words=['advice'])\n",
        "    response(long.R_TRAIN, ['train', 'your', 'favourite'], required_words=['favourite'])\n",
        "    response(long.R_MARRIED, ['are', 'you', 'married'], required_words=['married'])\n",
        "    response(long.R_EATING, ['what', 'you', 'eat'], required_words=['you', 'eat'])\n",
        "    response(long.R_ASKING, ['who', 'is', 'dhiraj'], required_words=['dhiraj'])\n",
        "\n",
        "    best_match = max(highest_prob_list, key=highest_prob_list.get)\n",
        "    return long.unknown() if highest_prob_list[best_match] < 1 else best_match\n",
        "\n",
        "\n",
        "def get_response(user_input):\n",
        "    split_message = re.split(r'\\s+|[,;?!.-]\\s*', user_input.lower())\n",
        "    response = check_all_messages(split_message)\n",
        "    return response\n",
        "\n",
        "\n",
        "while True:\n",
        "    print('SidBot: ' + get_response(input('Yash: ')))"
      ]
    }
  ],
  "metadata": {
    "colab": {
      "provenance": []
    },
    "kernelspec": {
      "display_name": "Python 3",
      "name": "python3"
    },
    "language_info": {
      "name": "python"
    }
  },
  "nbformat": 4,
  "nbformat_minor": 0
}